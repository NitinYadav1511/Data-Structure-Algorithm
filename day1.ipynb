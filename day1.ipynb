{
 "cells": [
  {
   "cell_type": "markdown",
   "id": "5a8eb6ad",
   "metadata": {},
   "source": [
    "# DAY1"
   ]
  },
  {
   "cell_type": "markdown",
   "id": "254d6dcc",
   "metadata": {},
   "source": [
    "## Basics of Class and Objects (OOPS)"
   ]
  },
  {
   "cell_type": "markdown",
   "id": "08ef4b3e",
   "metadata": {},
   "source": [
    "### Create student class that takes name and marks of 3 subjects as argument in constructor. Then create a method to pint the average."
   ]
  },
  {
   "cell_type": "code",
   "execution_count": 2,
   "id": "730fffb6",
   "metadata": {},
   "outputs": [],
   "source": [
    "class Student:\n",
    "    def __init__(self, student_name, marks):\n",
    "        self.student_name = student_name\n",
    "        self.marks = marks\n",
    "        \n",
    "    def av_marks(self):\n",
    "        a = 0\n",
    "        for marks in self.marks:\n",
    "            a=a+marks\n",
    "        return a/len(self.marks)"
   ]
  },
  {
   "cell_type": "code",
   "execution_count": 5,
   "id": "b7454752",
   "metadata": {},
   "outputs": [
    {
     "name": "stdout",
     "output_type": "stream",
     "text": [
      "56.333333333333336\n"
     ]
    }
   ],
   "source": [
    "s1 = Student('Nitin', [99,30,40])\n",
    "print(s1.av_marks())"
   ]
  },
  {
   "cell_type": "markdown",
   "id": "09811b25",
   "metadata": {},
   "source": [
    "### Create account class with 2 attributes - balance & account number. Then create methods for debit, credit and printing the balance."
   ]
  },
  {
   "cell_type": "code",
   "execution_count": 52,
   "id": "12c0095f",
   "metadata": {},
   "outputs": [],
   "source": [
    "class Account:\n",
    "    def __init__(self, bal, acc_no):\n",
    "        self.bal = bal\n",
    "        self.acc_no = acc_no\n",
    "        \n",
    "    def debit(self, amount):\n",
    "        self.amount = amount\n",
    "        if self.bal >= amount:\n",
    "            self.bal = self.bal-self.amount\n",
    "            print(amount, \"Debited!!\")\n",
    "        else:\n",
    "            print(\"Insufficient Balance in you account!!!\")\n",
    "            print(\"No amount Debited\")\n",
    "            \n",
    "        print(\"Your current Balance is :\", self.get_bal())\n",
    "        \n",
    "    def credit(self, amount):\n",
    "        self.amount = amount\n",
    "        self.bal +=amount\n",
    "        print(amount, \"Credited!!\")\n",
    "        print(\"Your current Balance is :\", self.get_bal())\n",
    "        \n",
    "    def get_bal(self):\n",
    "        return self.bal"
   ]
  },
  {
   "cell_type": "code",
   "execution_count": 53,
   "id": "f1a3aa94",
   "metadata": {},
   "outputs": [
    {
     "data": {
      "text/plain": [
       "5000"
      ]
     },
     "execution_count": 53,
     "metadata": {},
     "output_type": "execute_result"
    }
   ],
   "source": [
    "m1 = Account(5000, 123)\n",
    "m1.get_bal()"
   ]
  },
  {
   "cell_type": "code",
   "execution_count": 54,
   "id": "836fd3db",
   "metadata": {},
   "outputs": [
    {
     "name": "stdout",
     "output_type": "stream",
     "text": [
      "100 Credited!!\n",
      "Your current Balance is : 5100\n"
     ]
    }
   ],
   "source": [
    "m1.credit(100)"
   ]
  },
  {
   "cell_type": "code",
   "execution_count": 55,
   "id": "75d2bf01",
   "metadata": {},
   "outputs": [
    {
     "name": "stdout",
     "output_type": "stream",
     "text": [
      "2000 Debited!!\n",
      "Your current Balance is : 3100\n"
     ]
    }
   ],
   "source": [
    "m1.debit(2000)"
   ]
  },
  {
   "cell_type": "code",
   "execution_count": 56,
   "id": "8064460f",
   "metadata": {},
   "outputs": [
    {
     "name": "stdout",
     "output_type": "stream",
     "text": [
      "Insufficient Balance in you account!!!\n",
      "No amount Debited\n",
      "Your current Balance is : 3100\n"
     ]
    }
   ],
   "source": [
    "m1.debit(5000)"
   ]
  },
  {
   "cell_type": "code",
   "execution_count": 57,
   "id": "d45d211c",
   "metadata": {},
   "outputs": [
    {
     "data": {
      "text/plain": [
       "3100"
      ]
     },
     "execution_count": 57,
     "metadata": {},
     "output_type": "execute_result"
    }
   ],
   "source": [
    "m1.get_bal()"
   ]
  },
  {
   "cell_type": "markdown",
   "id": "94538f2f",
   "metadata": {},
   "source": [
    "### Implement concept of private attribute/method using the example of bank password senerio"
   ]
  },
  {
   "cell_type": "code",
   "execution_count": 113,
   "id": "8b429007",
   "metadata": {},
   "outputs": [],
   "source": [
    "class Account:\n",
    "    def __init__(self, acc_no, acc_pass):\n",
    "        self.acc_no = acc_no\n",
    "        self.__acc_pass = acc_pass  #private\n",
    "            \n",
    "    def reset_pass(self, new_pass):\n",
    "        self.__acc_pass = new_pass\n",
    "        #print(\"Updated password is :\", __acc_pass)\n",
    "    \n",
    "    #Below function is to check if the password is really updated or not\n",
    "    def account_info(self):\n",
    "        print('account no.: ', self.acc_no)\n",
    "        print('account password:', self.__acc_pass)"
   ]
  },
  {
   "cell_type": "code",
   "execution_count": 114,
   "id": "c55d27be",
   "metadata": {},
   "outputs": [
    {
     "data": {
      "text/plain": [
       "1234"
      ]
     },
     "execution_count": 114,
     "metadata": {},
     "output_type": "execute_result"
    }
   ],
   "source": [
    "a1 = Account(1234, 1234)\n",
    "a1.acc_no"
   ]
  },
  {
   "cell_type": "code",
   "execution_count": 115,
   "id": "7df59d9f",
   "metadata": {},
   "outputs": [
    {
     "ename": "AttributeError",
     "evalue": "'Account' object has no attribute '__acc_pass'",
     "output_type": "error",
     "traceback": [
      "\u001b[1;31m---------------------------------------------------------------------------\u001b[0m",
      "\u001b[1;31mAttributeError\u001b[0m                            Traceback (most recent call last)",
      "\u001b[1;32m~\\AppData\\Local\\Temp\\ipykernel_14048\\4114042608.py\u001b[0m in \u001b[0;36m<module>\u001b[1;34m\u001b[0m\n\u001b[1;32m----> 1\u001b[1;33m \u001b[0ma1\u001b[0m\u001b[1;33m.\u001b[0m\u001b[0m__acc_pass\u001b[0m\u001b[1;33m\u001b[0m\u001b[1;33m\u001b[0m\u001b[0m\n\u001b[0m",
      "\u001b[1;31mAttributeError\u001b[0m: 'Account' object has no attribute '__acc_pass'"
     ]
    }
   ],
   "source": [
    "a1.__acc_pass"
   ]
  },
  {
   "cell_type": "code",
   "execution_count": 116,
   "id": "47b107f7",
   "metadata": {},
   "outputs": [],
   "source": [
    "a1.reset_pass(4321)"
   ]
  },
  {
   "cell_type": "code",
   "execution_count": 117,
   "id": "f278a973",
   "metadata": {},
   "outputs": [
    {
     "name": "stdout",
     "output_type": "stream",
     "text": [
      "account no.:  1234\n",
      "account password: 4321\n"
     ]
    }
   ],
   "source": [
    "a1.account_info()"
   ]
  },
  {
   "cell_type": "markdown",
   "id": "dba4c6bc",
   "metadata": {},
   "source": [
    "### Nested private attribute and method"
   ]
  },
  {
   "cell_type": "code",
   "execution_count": 75,
   "id": "e06e4c86",
   "metadata": {},
   "outputs": [],
   "source": [
    "class Person:\n",
    "    __name = \"Anna\"\n",
    "    \n",
    "    def __hello(self):\n",
    "        print(\"Hello,\", self.__name)\n",
    "        \n",
    "    def welcome(self):\n",
    "        self.__hello()"
   ]
  },
  {
   "cell_type": "code",
   "execution_count": 76,
   "id": "23d342d9",
   "metadata": {},
   "outputs": [
    {
     "ename": "AttributeError",
     "evalue": "'Person' object has no attribute '__name'",
     "output_type": "error",
     "traceback": [
      "\u001b[1;31m---------------------------------------------------------------------------\u001b[0m",
      "\u001b[1;31mAttributeError\u001b[0m                            Traceback (most recent call last)",
      "\u001b[1;32m~\\AppData\\Local\\Temp\\ipykernel_14048\\3301509932.py\u001b[0m in \u001b[0;36m<module>\u001b[1;34m\u001b[0m\n\u001b[0;32m      1\u001b[0m \u001b[0mp1\u001b[0m \u001b[1;33m=\u001b[0m \u001b[0mPerson\u001b[0m\u001b[1;33m(\u001b[0m\u001b[1;33m)\u001b[0m\u001b[1;33m\u001b[0m\u001b[1;33m\u001b[0m\u001b[0m\n\u001b[1;32m----> 2\u001b[1;33m \u001b[0mprint\u001b[0m\u001b[1;33m(\u001b[0m\u001b[0mp1\u001b[0m\u001b[1;33m.\u001b[0m\u001b[0m__name\u001b[0m\u001b[1;33m)\u001b[0m\u001b[1;33m\u001b[0m\u001b[1;33m\u001b[0m\u001b[0m\n\u001b[0m",
      "\u001b[1;31mAttributeError\u001b[0m: 'Person' object has no attribute '__name'"
     ]
    }
   ],
   "source": [
    "p1 = Person()\n",
    "print(p1.__name)"
   ]
  },
  {
   "cell_type": "code",
   "execution_count": 77,
   "id": "1536ccae",
   "metadata": {},
   "outputs": [
    {
     "ename": "AttributeError",
     "evalue": "'Person' object has no attribute '__hello'",
     "output_type": "error",
     "traceback": [
      "\u001b[1;31m---------------------------------------------------------------------------\u001b[0m",
      "\u001b[1;31mAttributeError\u001b[0m                            Traceback (most recent call last)",
      "\u001b[1;32m~\\AppData\\Local\\Temp\\ipykernel_14048\\2586130398.py\u001b[0m in \u001b[0;36m<module>\u001b[1;34m\u001b[0m\n\u001b[1;32m----> 1\u001b[1;33m \u001b[0mprint\u001b[0m\u001b[1;33m(\u001b[0m\u001b[0mp1\u001b[0m\u001b[1;33m.\u001b[0m\u001b[0m__hello\u001b[0m\u001b[1;33m(\u001b[0m\u001b[1;33m)\u001b[0m\u001b[1;33m)\u001b[0m\u001b[1;33m\u001b[0m\u001b[1;33m\u001b[0m\u001b[0m\n\u001b[0m",
      "\u001b[1;31mAttributeError\u001b[0m: 'Person' object has no attribute '__hello'"
     ]
    }
   ],
   "source": [
    "print(p1.__hello())"
   ]
  },
  {
   "cell_type": "code",
   "execution_count": 82,
   "id": "0499da66",
   "metadata": {},
   "outputs": [
    {
     "name": "stdout",
     "output_type": "stream",
     "text": [
      "Hello, Anna\n"
     ]
    }
   ],
   "source": [
    "p1.welcome()"
   ]
  },
  {
   "cell_type": "code",
   "execution_count": null,
   "id": "a0202c70",
   "metadata": {},
   "outputs": [],
   "source": []
  },
  {
   "cell_type": "code",
   "execution_count": 128,
   "id": "77712232",
   "metadata": {},
   "outputs": [],
   "source": [
    "class Person:\n",
    "    name = \"unknown\"\n",
    "    \n",
    "    @classmethod\n",
    "    def change_name(cls, name):\n",
    "        cls.name = name"
   ]
  },
  {
   "cell_type": "code",
   "execution_count": 129,
   "id": "d833156d",
   "metadata": {},
   "outputs": [
    {
     "name": "stdout",
     "output_type": "stream",
     "text": [
      "unknown\n",
      "unknown\n"
     ]
    }
   ],
   "source": [
    "p1 = Person()\n",
    "print(p1.name)\n",
    "print(Person.name)"
   ]
  },
  {
   "cell_type": "code",
   "execution_count": 130,
   "id": "f79af7f1",
   "metadata": {},
   "outputs": [
    {
     "name": "stdout",
     "output_type": "stream",
     "text": [
      "Nitin\n",
      "Nitin\n"
     ]
    }
   ],
   "source": [
    "p1.change_name(\"Nitin\")\n",
    "print(p1.name)\n",
    "print(Person.name)"
   ]
  },
  {
   "cell_type": "markdown",
   "id": "167b7a8e",
   "metadata": {},
   "source": [
    "### Define a circle class to create a circle with radius r using the constructor. Then define the area and perimeter method of the class to calculate the area and perimeter of that circle. "
   ]
  },
  {
   "cell_type": "code",
   "execution_count": 131,
   "id": "4696b388",
   "metadata": {},
   "outputs": [],
   "source": [
    "class Circle:\n",
    "    def __init__(self, r):\n",
    "        self.radius = r\n",
    "        \n",
    "    @property #for automatic update\n",
    "    def area(self):\n",
    "        return str(3.14*(self.radius**2))+\" unit sq\"\n",
    "    \n",
    "    @property #for automatic update\n",
    "    def perimeter(self):\n",
    "        return str(2*3.14*self.radius)+\" units\""
   ]
  },
  {
   "cell_type": "code",
   "execution_count": 132,
   "id": "546fb4ef",
   "metadata": {},
   "outputs": [],
   "source": [
    "c1 = Circle(15)"
   ]
  },
  {
   "cell_type": "code",
   "execution_count": 134,
   "id": "9c992eb0",
   "metadata": {},
   "outputs": [
    {
     "name": "stdout",
     "output_type": "stream",
     "text": [
      "706.5 unit sq\n",
      "94.2 units\n"
     ]
    }
   ],
   "source": [
    "print(c1.area)\n",
    "print(c1.perimeter)"
   ]
  },
  {
   "cell_type": "code",
   "execution_count": 136,
   "id": "1a889dfc",
   "metadata": {},
   "outputs": [
    {
     "name": "stdout",
     "output_type": "stream",
     "text": [
      "314.0 unit sq\n",
      "62.800000000000004 units\n"
     ]
    }
   ],
   "source": [
    "c1.radius = 10\n",
    "print(c1.area)\n",
    "print(c1.perimeter)"
   ]
  },
  {
   "cell_type": "markdown",
   "id": "5f9bbc44",
   "metadata": {},
   "source": [
    "### Define employee class with attributes role, department and salary. This class also has a showDetails() method."
   ]
  },
  {
   "cell_type": "code",
   "execution_count": 142,
   "id": "ec057b75",
   "metadata": {},
   "outputs": [],
   "source": [
    "class Employee:\n",
    "    def __init__(self, role, department, salary):\n",
    "        self.role = role\n",
    "        self.department = department\n",
    "        self.salary = salary\n",
    "    \n",
    "    def showDetails(self):\n",
    "        print(\"Role :\", self.role)\n",
    "        print(\"Department :\", self.department)\n",
    "        print(\"Salary :\", self.salary)"
   ]
  },
  {
   "cell_type": "code",
   "execution_count": 143,
   "id": "260aa58a",
   "metadata": {},
   "outputs": [],
   "source": [
    "e1 = Employee(\"Manager\", \"IT\", \"60000\")"
   ]
  },
  {
   "cell_type": "code",
   "execution_count": 145,
   "id": "11288d4c",
   "metadata": {},
   "outputs": [
    {
     "name": "stdout",
     "output_type": "stream",
     "text": [
      "Role : Manager\n",
      "Department : IT\n",
      "Salary : 60000\n"
     ]
    }
   ],
   "source": [
    "e1.showDetails()"
   ]
  },
  {
   "cell_type": "markdown",
   "id": "d5cfbcf1",
   "metadata": {},
   "source": [
    "### Create an Engineer class which inherits the properties from Employee and has additional attributes : name & age"
   ]
  },
  {
   "cell_type": "code",
   "execution_count": 148,
   "id": "30bf2655",
   "metadata": {},
   "outputs": [],
   "source": [
    "class Engineer(Employee):\n",
    "    def __init__(self, name, age):\n",
    "        self.name = name\n",
    "        self.age = age\n",
    "        super().__init__(\"Engineer\", \"IT\", \"75000\")\n",
    "        "
   ]
  },
  {
   "cell_type": "code",
   "execution_count": 154,
   "id": "9cc66622",
   "metadata": {},
   "outputs": [
    {
     "name": "stdout",
     "output_type": "stream",
     "text": [
      "Role : Engineer\n",
      "Department : IT\n",
      "Salary : 75000\n"
     ]
    }
   ],
   "source": [
    "e1 = Engineer(\"Nitin\", 25)\n",
    "e1.showDetails()"
   ]
  },
  {
   "cell_type": "markdown",
   "id": "68ecf91d",
   "metadata": {},
   "source": [
    "### Create a class called order which stores the item and its price. Use dunder function _ _gt_ _() {Greater Than, \">\") to convey that order1> order2 if price of order1>price of order2."
   ]
  },
  {
   "cell_type": "code",
   "execution_count": 158,
   "id": "7ba09c98",
   "metadata": {},
   "outputs": [],
   "source": [
    "class Order:\n",
    "    def __init__(self, item, price):\n",
    "        self.item = item\n",
    "        self.price = price\n",
    "    \n",
    "    def __gt__(self, o2):\n",
    "        return self.price > o2.price"
   ]
  },
  {
   "cell_type": "code",
   "execution_count": 162,
   "id": "07e2ab8f",
   "metadata": {},
   "outputs": [],
   "source": [
    "o134 = Order('chips', 20)\n",
    "o211 = Order('pasta', 70)"
   ]
  },
  {
   "cell_type": "code",
   "execution_count": 164,
   "id": "b4f382c3",
   "metadata": {},
   "outputs": [
    {
     "data": {
      "text/plain": [
       "True"
      ]
     },
     "execution_count": 164,
     "metadata": {},
     "output_type": "execute_result"
    }
   ],
   "source": [
    "o211>o134"
   ]
  },
  {
   "cell_type": "code",
   "execution_count": null,
   "id": "2f582376",
   "metadata": {},
   "outputs": [],
   "source": []
  }
 ],
 "metadata": {
  "kernelspec": {
   "display_name": "Python 3 (ipykernel)",
   "language": "python",
   "name": "python3"
  },
  "language_info": {
   "codemirror_mode": {
    "name": "ipython",
    "version": 3
   },
   "file_extension": ".py",
   "mimetype": "text/x-python",
   "name": "python",
   "nbconvert_exporter": "python",
   "pygments_lexer": "ipython3",
   "version": "3.9.13"
  }
 },
 "nbformat": 4,
 "nbformat_minor": 5
}

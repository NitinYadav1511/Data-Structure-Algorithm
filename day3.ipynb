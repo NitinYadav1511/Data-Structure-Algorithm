{
 "cells": [
  {
   "cell_type": "markdown",
   "id": "b100615b",
   "metadata": {},
   "source": [
    "# 386. Lexicographical Numbers"
   ]
  },
  {
   "cell_type": "markdown",
   "id": "179f7743",
   "metadata": {},
   "source": [
    "### Given an integer n, return all the numbers in the range [1, n] sorted in lexicographical order.\n",
    "\n",
    "You must write an algorithm that runs in O(n) time and uses O(1) extra space. \n",
    "\n",
    " \n",
    "\n",
    "Example 1:\n",
    "\n",
    "Input: n = 13\n",
    "Output: [1,10,11,12,13,2,3,4,5,6,7,8,9]\n",
    "\n",
    "Example 2:\n",
    "\n",
    "Input: n = 2\n",
    "Output: [1,2]\n",
    "\n",
    " \n",
    "\n",
    "Constraints:\n",
    "\n",
    "    1 <= n <= 5 * 104\n",
    "\n"
   ]
  },
  {
   "cell_type": "code",
   "execution_count": 1,
   "id": "68396688",
   "metadata": {},
   "outputs": [],
   "source": [
    "class Solution(object):\n",
    "    def lexicalOrder(self, n):\n",
    "\n",
    "        result = []\n",
    "        \n",
    "        def dfs(current):\n",
    "            if current >n:\n",
    "                return\n",
    "            result.append(current) #adds the number to results\n",
    "\n",
    "            for i in range(10):\n",
    "                next = current*10 + i\n",
    "                if next> n:\n",
    "                    return\n",
    "                dfs(next)\n",
    "\n",
    "        for i in range (1, 10):\n",
    "            dfs(i)\n",
    "\n",
    "        return result"
   ]
  },
  {
   "cell_type": "code",
   "execution_count": 3,
   "id": "8a26472f",
   "metadata": {},
   "outputs": [],
   "source": [
    "a = Solution()"
   ]
  },
  {
   "cell_type": "code",
   "execution_count": 4,
   "id": "9cde0759",
   "metadata": {},
   "outputs": [
    {
     "data": {
      "text/plain": [
       "[1, 10, 11, 12, 13, 2, 3, 4, 5, 6, 7, 8, 9]"
      ]
     },
     "execution_count": 4,
     "metadata": {},
     "output_type": "execute_result"
    }
   ],
   "source": [
    "a.lexicalOrder(13)"
   ]
  },
  {
   "cell_type": "code",
   "execution_count": 6,
   "id": "202e8833",
   "metadata": {},
   "outputs": [
    {
     "data": {
      "text/plain": [
       "[1, 10, 11, 12, 13, 14, 15, 2, 3, 4, 5, 6, 7, 8, 9]"
      ]
     },
     "execution_count": 6,
     "metadata": {},
     "output_type": "execute_result"
    }
   ],
   "source": [
    "a.lexicalOrder(15)"
   ]
  },
  {
   "cell_type": "code",
   "execution_count": null,
   "id": "ab8c7337",
   "metadata": {},
   "outputs": [],
   "source": []
  },
  {
   "cell_type": "code",
   "execution_count": null,
   "id": "2fcd206b",
   "metadata": {},
   "outputs": [],
   "source": []
  }
 ],
 "metadata": {
  "kernelspec": {
   "display_name": "Python 3 (ipykernel)",
   "language": "python",
   "name": "python3"
  },
  "language_info": {
   "codemirror_mode": {
    "name": "ipython",
    "version": 3
   },
   "file_extension": ".py",
   "mimetype": "text/x-python",
   "name": "python",
   "nbconvert_exporter": "python",
   "pygments_lexer": "ipython3",
   "version": "3.9.13"
  }
 },
 "nbformat": 4,
 "nbformat_minor": 5
}

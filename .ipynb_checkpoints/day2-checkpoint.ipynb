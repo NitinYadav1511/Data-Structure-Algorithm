{
 "cells": [
  {
   "cell_type": "markdown",
   "id": "3eeff7d5",
   "metadata": {},
   "source": [
    "# DAY 2\n"
   ]
  },
  {
   "cell_type": "markdown",
   "id": "858d04ab",
   "metadata": {},
   "source": [
    "## Implementing Singly Linked List with Python"
   ]
  },
  {
   "cell_type": "markdown",
   "id": "b43f6833",
   "metadata": {},
   "source": [
    "### Creating a SLL class that calls Node class for making a new node to add in the linked list. SLL should have the below functionalities:\n",
    "Inserting at Beginning, \n",
    "Inserting at End, \n",
    "Delete, \n",
    "Display, \n",
    "Get Index"
   ]
  },
  {
   "cell_type": "code",
   "execution_count": 13,
   "id": "0d1ec5ca",
   "metadata": {},
   "outputs": [],
   "source": [
    "class Node:\n",
    "    def __init__(self, data):\n",
    "        self.data = data\n",
    "        self.next = None\n",
    "        \n",
    "class SLL:\n",
    "    def __init__(self):\n",
    "        self.head =None\n",
    "        \n",
    "    def insert_at_end(self, data):\n",
    "        new = Node(data)\n",
    "        if self.head == None:\n",
    "            self.head = new\n",
    "            \n",
    "        else:\n",
    "            current = self.head\n",
    "            while current.next:\n",
    "                current = current.next\n",
    "                \n",
    "            current.next = new\n",
    "            \n",
    "            \n",
    "    def insert_at_beginning(self, data):\n",
    "        new = Node(data)\n",
    "        new.next = self.head\n",
    "        self.head = new\n",
    "    \n",
    "    def delete_node(self,data):\n",
    "        current = self.head\n",
    "        if current is None:\n",
    "            print(\"The list is empty\")\n",
    "            \n",
    "        if current.data == data:\n",
    "            self.head = current.next\n",
    "            current = None\n",
    "            return\n",
    "        \n",
    "        prev = None\n",
    "        while current and current.data != data:\n",
    "            prev = current\n",
    "            current = current.next\n",
    "            \n",
    "        if current is None:\n",
    "            print(\"This data is not present in this list\")\n",
    "            return\n",
    "        \n",
    "        if current.data == data:\n",
    "            prev.next = current.next\n",
    "            current = None\n",
    "            \n",
    "    def display(self):\n",
    "        current = self.head\n",
    "        if current is None:\n",
    "            print(\"List is Empty\")\n",
    "            return\n",
    "        \n",
    "        while current:\n",
    "            print(current.data, end = '->')\n",
    "            current = current.next\n",
    "        print('None')\n",
    "        \n",
    "    def get_index(self, data):\n",
    "        if self.head == None:\n",
    "            print(\"List is Empty\")\n",
    "            return\n",
    "        index = 0\n",
    "        current = self.head\n",
    "        while current:\n",
    "            if current.data == data:\n",
    "                return index\n",
    "            current = current.next\n",
    "            index+=1\n",
    "            \n",
    "        return -1"
   ]
  },
  {
   "cell_type": "code",
   "execution_count": 14,
   "id": "c0f36ade",
   "metadata": {},
   "outputs": [],
   "source": [
    "sll = SLL()"
   ]
  },
  {
   "cell_type": "code",
   "execution_count": 15,
   "id": "ca931d99",
   "metadata": {},
   "outputs": [],
   "source": [
    "sll.insert_at_end(10)"
   ]
  },
  {
   "cell_type": "code",
   "execution_count": 16,
   "id": "ec184ddd",
   "metadata": {},
   "outputs": [
    {
     "name": "stdout",
     "output_type": "stream",
     "text": [
      "10->None\n"
     ]
    }
   ],
   "source": [
    "sll.display()"
   ]
  },
  {
   "cell_type": "code",
   "execution_count": 17,
   "id": "954b681a",
   "metadata": {},
   "outputs": [],
   "source": [
    "sll.insert_at_beginning(255)"
   ]
  },
  {
   "cell_type": "code",
   "execution_count": 18,
   "id": "873e86f3",
   "metadata": {},
   "outputs": [],
   "source": [
    "sll.insert_at_beginning(\"Nitin\")\n",
    "sll.insert_at_beginning(32.2)\n",
    "sll.insert_at_beginning(152)"
   ]
  },
  {
   "cell_type": "code",
   "execution_count": 19,
   "id": "05dd72ea",
   "metadata": {},
   "outputs": [
    {
     "name": "stdout",
     "output_type": "stream",
     "text": [
      "152->32.2->Nitin->255->10->None\n"
     ]
    }
   ],
   "source": [
    "sll.display()"
   ]
  },
  {
   "cell_type": "code",
   "execution_count": 20,
   "id": "ba9173b1",
   "metadata": {},
   "outputs": [],
   "source": [
    "sll.delete_node(\"Nitin\")"
   ]
  },
  {
   "cell_type": "code",
   "execution_count": 21,
   "id": "693659b6",
   "metadata": {},
   "outputs": [
    {
     "name": "stdout",
     "output_type": "stream",
     "text": [
      "152->32.2->255->10->None\n"
     ]
    }
   ],
   "source": [
    "sll.display()"
   ]
  },
  {
   "cell_type": "code",
   "execution_count": 22,
   "id": "97328332",
   "metadata": {},
   "outputs": [
    {
     "data": {
      "text/plain": [
       "3"
      ]
     },
     "execution_count": 22,
     "metadata": {},
     "output_type": "execute_result"
    }
   ],
   "source": [
    "sll.get_index(10)"
   ]
  },
  {
   "cell_type": "markdown",
   "id": "955aebfb",
   "metadata": {},
   "source": [
    "### Practice"
   ]
  },
  {
   "cell_type": "code",
   "execution_count": 23,
   "id": "f9d93432",
   "metadata": {},
   "outputs": [],
   "source": [
    "class Node:\n",
    "    def __init__(self, data):\n",
    "        self.data = data\n",
    "        self.next = None\n",
    "        \n",
    "class LinkedList:\n",
    "    def __init__(self):\n",
    "        self.head = None\n",
    "        \n",
    "    def insert_at_one(self, data):\n",
    "        new = Node(data)\n",
    "        new.next = self.head\n",
    "        self.head = new\n",
    "        return\n",
    "    \n",
    "    def insert_at_last(self, data):\n",
    "        current = self.head\n",
    "        new = Node(data)\n",
    "        while current.next:\n",
    "            current = current.next\n",
    "        current.next = new\n",
    "        \n",
    "    def remove(self, data):\n",
    "        current = self.head\n",
    "        if current == None:\n",
    "            print(\"List is empty!\")\n",
    "            return\n",
    "        \n",
    "        if current.data == data:\n",
    "            self.head = current.next\n",
    "            current = None\n",
    "            return\n",
    "        \n",
    "        prev = None\n",
    "        while current and current.data != data:\n",
    "            prev = current\n",
    "            current = current.next\n",
    "            \n",
    "        if current == None:\n",
    "            print(\"he give element is not present in this list\")\n",
    "            return\n",
    "        if current.data == data:\n",
    "            prev.next = current.next\n",
    "            current = None\n",
    "            return\n",
    "            \n",
    "    def show(self):\n",
    "        current = self.head\n",
    "        if current==None:\n",
    "            print(\"List is Empty\")\n",
    "        while current:\n",
    "            print(current.data, end=\"->\")\n",
    "            current = current.next\n",
    "        print('None')"
   ]
  },
  {
   "cell_type": "code",
   "execution_count": 24,
   "id": "9198734d",
   "metadata": {},
   "outputs": [],
   "source": [
    "sll1 = LinkedList()\n",
    "sll1.insert_at_one(\"Hello\")\n",
    "sll1.insert_at_one(\"I\")\n",
    "sll1.insert_at_one(\"am\")\n",
    "sll1.insert_at_one(\"a\")\n",
    "sll1.insert_at_one(\"Billy\")"
   ]
  },
  {
   "cell_type": "code",
   "execution_count": 25,
   "id": "7d0fd1b4",
   "metadata": {},
   "outputs": [
    {
     "name": "stdout",
     "output_type": "stream",
     "text": [
      "Billy->a->am->I->Hello->None\n"
     ]
    }
   ],
   "source": [
    "sll1.show()"
   ]
  },
  {
   "cell_type": "code",
   "execution_count": null,
   "id": "3d7dbf35",
   "metadata": {},
   "outputs": [],
   "source": []
  }
 ],
 "metadata": {
  "kernelspec": {
   "display_name": "Python 3 (ipykernel)",
   "language": "python",
   "name": "python3"
  },
  "language_info": {
   "codemirror_mode": {
    "name": "ipython",
    "version": 3
   },
   "file_extension": ".py",
   "mimetype": "text/x-python",
   "name": "python",
   "nbconvert_exporter": "python",
   "pygments_lexer": "ipython3",
   "version": "3.9.13"
  }
 },
 "nbformat": 4,
 "nbformat_minor": 5
}
